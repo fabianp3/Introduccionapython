{
  "nbformat": 4,
  "nbformat_minor": 0,
  "metadata": {
    "colab": {
      "provenance": [],
      "authorship_tag": "ABX9TyNcmjYsXnqOs2XCzNkGeP5i",
      "include_colab_link": true
    },
    "kernelspec": {
      "name": "python3",
      "display_name": "Python 3"
    },
    "language_info": {
      "name": "python"
    }
  },
  "cells": [
    {
      "cell_type": "markdown",
      "metadata": {
        "id": "view-in-github",
        "colab_type": "text"
      },
      "source": [
        "<a href=\"https://colab.research.google.com/github/fabianp3/Introduccionapython/blob/main/CURSOPYTHON.ipynb\" target=\"_parent\"><img src=\"https://colab.research.google.com/assets/colab-badge.svg\" alt=\"Open In Colab\"/></a>"
      ]
    },
    {
      "cell_type": "markdown",
      "source": [
        "# 1) EJERCICIO\n",
        "\n",
        "# **Encuentre el área de un triángulo rectángulo isósceles a partir de la longitud de sus catetos, ingresados por el usuario. Recuerde que un triángulo isósceles tiene dos lados iguales y que el área de un triángulo está dada por: (base * altura)/2**\n"
      ],
      "metadata": {
        "id": "OehL3cyUEKGq"
      }
    },
    {
      "cell_type": "code",
      "source": [
        "lado=int(input(\"ingrese el valor de uno de los lados del triangulo \"))\n",
        "altura=int(input(\"ingrese el valor de la altura del triangulo \"))\n",
        "área=(lado*altura)/2\n",
        "print(f\"el area del triangulo isósceles es: {área}\")"
      ],
      "metadata": {
        "id": "FYLl3nBV_Rkm"
      },
      "execution_count": null,
      "outputs": []
    }
  ]
}